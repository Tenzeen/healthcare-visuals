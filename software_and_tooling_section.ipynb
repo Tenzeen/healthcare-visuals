{
  "nbformat": 4,
  "nbformat_minor": 0,
  "metadata": {
    "colab": {
      "provenance": []
    },
    "kernelspec": {
      "name": "python3",
      "display_name": "Python 3"
    },
    "language_info": {
      "name": "python"
    }
  },
  "cells": [
    {
      "cell_type": "code",
      "execution_count": null,
      "metadata": {
        "id": "Q9u4wpdF_tXn"
      },
      "outputs": [],
      "source": []
    },
    {
      "cell_type": "markdown",
      "source": [
        "This is a description/example of some text\n",
        "\n",
        "# Header 1\n",
        "## Header 2\n",
        "### Header 3\n",
        "#### Header 4"
      ],
      "metadata": {
        "id": "faPkbyXaAle8"
      }
    },
    {
      "cell_type": "code",
      "source": [
        "5 + 5"
      ],
      "metadata": {
        "colab": {
          "base_uri": "https://localhost:8080/"
        },
        "id": "WBFlwSVwBJcl",
        "outputId": "10cba31b-c044-402d-cf3e-57aedc704d97"
      },
      "execution_count": 1,
      "outputs": [
        {
          "output_type": "execute_result",
          "data": {
            "text/plain": [
              "10"
            ]
          },
          "metadata": {},
          "execution_count": 1
        }
      ]
    },
    {
      "cell_type": "code",
      "source": [
        "output = 5 + 5"
      ],
      "metadata": {
        "id": "kkMCGezHBSxV"
      },
      "execution_count": 2,
      "outputs": []
    },
    {
      "cell_type": "code",
      "source": [
        "output"
      ],
      "metadata": {
        "colab": {
          "base_uri": "https://localhost:8080/"
        },
        "id": "uDGTFtzNBY1a",
        "outputId": "52662df0-319d-4bd3-e4d9-60882e5482b4"
      },
      "execution_count": 3,
      "outputs": [
        {
          "output_type": "execute_result",
          "data": {
            "text/plain": [
              "10"
            ]
          },
          "metadata": {},
          "execution_count": 3
        }
      ]
    },
    {
      "cell_type": "code",
      "source": [
        "output2 = output + 10"
      ],
      "metadata": {
        "id": "wYGe6t9MBbik"
      },
      "execution_count": 4,
      "outputs": []
    },
    {
      "cell_type": "code",
      "source": [
        "output2"
      ],
      "metadata": {
        "colab": {
          "base_uri": "https://localhost:8080/"
        },
        "id": "FpiQnkzhBlY4",
        "outputId": "51380ce9-13e3-4bac-aae0-a76dad5b35bf"
      },
      "execution_count": 5,
      "outputs": [
        {
          "output_type": "execute_result",
          "data": {
            "text/plain": [
              "20"
            ]
          },
          "metadata": {},
          "execution_count": 5
        }
      ]
    },
    {
      "cell_type": "code",
      "source": [
        "import pandas as pd"
      ],
      "metadata": {
        "id": "mWw_5c2PBmaS"
      },
      "execution_count": 6,
      "outputs": []
    },
    {
      "cell_type": "code",
      "source": [
        "#long way\n",
        "dataframe = pandas.read_csv()"
      ],
      "metadata": {
        "colab": {
          "base_uri": "https://localhost:8080/",
          "height": 165
        },
        "id": "_y2TeRguCH1V",
        "outputId": "ff1d111b-68b8-40ca-e6fc-9a08de571a12"
      },
      "execution_count": 7,
      "outputs": [
        {
          "output_type": "error",
          "ename": "NameError",
          "evalue": "ignored",
          "traceback": [
            "\u001b[0;31m---------------------------------------------------------------------------\u001b[0m",
            "\u001b[0;31mNameError\u001b[0m                                 Traceback (most recent call last)",
            "\u001b[0;32m<ipython-input-7-0f1d2fefb308>\u001b[0m in \u001b[0;36m<module>\u001b[0;34m\u001b[0m\n\u001b[0;32m----> 1\u001b[0;31m \u001b[0mdataframe\u001b[0m \u001b[0;34m=\u001b[0m \u001b[0mpandas\u001b[0m\u001b[0;34m.\u001b[0m\u001b[0mread_csv\u001b[0m\u001b[0;34m(\u001b[0m\u001b[0;34m)\u001b[0m\u001b[0;34m\u001b[0m\u001b[0;34m\u001b[0m\u001b[0m\n\u001b[0m",
            "\u001b[0;31mNameError\u001b[0m: name 'pandas' is not defined"
          ]
        }
      ]
    },
    {
      "cell_type": "code",
      "source": [
        "# abbreviated\n",
        "dataframe = pd.read_csv()"
      ],
      "metadata": {
        "colab": {
          "base_uri": "https://localhost:8080/",
          "height": 287
        },
        "id": "lcwD4GN1CNDo",
        "outputId": "f6966af2-2589-4caf-cb0e-4c064424e4e5"
      },
      "execution_count": 8,
      "outputs": [
        {
          "output_type": "error",
          "ename": "TypeError",
          "evalue": "ignored",
          "traceback": [
            "\u001b[0;31m---------------------------------------------------------------------------\u001b[0m",
            "\u001b[0;31mTypeError\u001b[0m                                 Traceback (most recent call last)",
            "\u001b[0;32m<ipython-input-8-4433021e263a>\u001b[0m in \u001b[0;36m<module>\u001b[0;34m\u001b[0m\n\u001b[0;32m----> 1\u001b[0;31m \u001b[0mdataframe\u001b[0m \u001b[0;34m=\u001b[0m \u001b[0mpd\u001b[0m\u001b[0;34m.\u001b[0m\u001b[0mread_csv\u001b[0m\u001b[0;34m(\u001b[0m\u001b[0;34m)\u001b[0m\u001b[0;34m\u001b[0m\u001b[0;34m\u001b[0m\u001b[0m\n\u001b[0m",
            "\u001b[0;32m/usr/local/lib/python3.7/dist-packages/pandas/util/_decorators.py\u001b[0m in \u001b[0;36mwrapper\u001b[0;34m(*args, **kwargs)\u001b[0m\n\u001b[1;32m    309\u001b[0m                     \u001b[0mstacklevel\u001b[0m\u001b[0;34m=\u001b[0m\u001b[0mstacklevel\u001b[0m\u001b[0;34m,\u001b[0m\u001b[0;34m\u001b[0m\u001b[0;34m\u001b[0m\u001b[0m\n\u001b[1;32m    310\u001b[0m                 )\n\u001b[0;32m--> 311\u001b[0;31m             \u001b[0;32mreturn\u001b[0m \u001b[0mfunc\u001b[0m\u001b[0;34m(\u001b[0m\u001b[0;34m*\u001b[0m\u001b[0margs\u001b[0m\u001b[0;34m,\u001b[0m \u001b[0;34m**\u001b[0m\u001b[0mkwargs\u001b[0m\u001b[0;34m)\u001b[0m\u001b[0;34m\u001b[0m\u001b[0;34m\u001b[0m\u001b[0m\n\u001b[0m\u001b[1;32m    312\u001b[0m \u001b[0;34m\u001b[0m\u001b[0m\n\u001b[1;32m    313\u001b[0m         \u001b[0;32mreturn\u001b[0m \u001b[0mwrapper\u001b[0m\u001b[0;34m\u001b[0m\u001b[0;34m\u001b[0m\u001b[0m\n",
            "\u001b[0;31mTypeError\u001b[0m: read_csv() missing 1 required positional argument: 'filepath_or_buffer'"
          ]
        }
      ]
    },
    {
      "cell_type": "code",
      "source": [
        "import numpy as np\n",
        "import seaborn as sns\n",
        "import plotly"
      ],
      "metadata": {
        "id": "DTfkd0y3CRDo"
      },
      "execution_count": 9,
      "outputs": []
    },
    {
      "cell_type": "code",
      "source": [
        "!pip install mutwo"
      ],
      "metadata": {
        "colab": {
          "base_uri": "https://localhost:8080/"
        },
        "id": "olilhgHPCXoE",
        "outputId": "83407f2d-073b-4f54-a16f-a2bce555d2b1"
      },
      "execution_count": 11,
      "outputs": [
        {
          "output_type": "stream",
          "name": "stdout",
          "text": [
            "Looking in indexes: https://pypi.org/simple, https://us-python.pkg.dev/colab-wheels/public/simple/\n",
            "Collecting mutwo\n",
            "  Downloading mutwo-0.30.0-py3-none-any.whl (150 kB)\n",
            "\u001b[K     |████████████████████████████████| 150 kB 4.0 MB/s \n",
            "\u001b[?25hCollecting primesieve<3.0.0,>=2.0.0\n",
            "  Downloading primesieve-2.3.0-cp37-cp37m-manylinux2010_x86_64.whl (2.4 MB)\n",
            "\u001b[K     |████████████████████████████████| 2.4 MB 46.8 MB/s \n",
            "\u001b[?25hCollecting expenvelope<1.0.0,>=0.6.5\n",
            "  Downloading expenvelope-0.7.0-py3-none-any.whl (40 kB)\n",
            "\u001b[K     |████████████████████████████████| 40 kB 4.9 MB/s \n",
            "\u001b[?25hRequirement already satisfied: natsort<6.0.0,>=5.3.3 in /usr/local/lib/python3.7/dist-packages (from mutwo) (5.5.0)\n",
            "Requirement already satisfied: scipy<2.0.0,>=1.4.1 in /usr/local/lib/python3.7/dist-packages (from mutwo) (1.7.3)\n",
            "Requirement already satisfied: numpy<2.00,>=1.18 in /usr/local/lib/python3.7/dist-packages (from mutwo) (1.21.6)\n",
            "Installing collected packages: primesieve, expenvelope, mutwo\n",
            "Successfully installed expenvelope-0.7.0 mutwo-0.30.0 primesieve-2.3.0\n"
          ]
        }
      ]
    },
    {
      "cell_type": "code",
      "source": [
        "import mutwo"
      ],
      "metadata": {
        "colab": {
          "base_uri": "https://localhost:8080/"
        },
        "id": "WavB3pk9CjnA",
        "outputId": "142a68bc-7a30-4dde-ea4f-3f5f6cbce332"
      },
      "execution_count": 12,
      "outputs": [
        {
          "output_type": "stream",
          "name": "stderr",
          "text": [
            "/usr/local/lib/python3.7/dist-packages/mutwo/utilities/tools.py:228: UserWarning: Can't load module 'mutwo.converters.frontends.midi_constants'. Install dependency 'mido' if you want to use 'mutwo.converters.frontends.midi_constants'.\n",
            "  warnings.warn(message)\n",
            "/usr/local/lib/python3.7/dist-packages/mutwo/utilities/tools.py:228: UserWarning: Can't load module 'mutwo.converters.frontends.midi'. Install dependency 'mido' if you want to use 'mutwo.converters.frontends.midi'.\n",
            "  warnings.warn(message)\n",
            "/usr/local/lib/python3.7/dist-packages/mutwo/utilities/tools.py:228: UserWarning: Can't load module 'mutwo.converters.frontends.reaper'. Install dependency 'rpp' if you want to use 'mutwo.converters.frontends.reaper'.\n",
            "  warnings.warn(message)\n",
            "/usr/local/lib/python3.7/dist-packages/mutwo/utilities/tools.py:228: UserWarning: Can't load module 'mutwo.converters.frontends.abjad_attachments'. Install dependency 'abjad' if you want to use 'mutwo.converters.frontends.abjad_attachments'.\n",
            "  warnings.warn(message)\n",
            "/usr/local/lib/python3.7/dist-packages/mutwo/utilities/tools.py:228: UserWarning: Can't load module 'mutwo.converters.frontends.abjad_process_container_routines'. Install dependency 'abjad' if you want to use 'mutwo.converters.frontends.abjad_process_container_routines'.\n",
            "  warnings.warn(message)\n",
            "/usr/local/lib/python3.7/dist-packages/mutwo/utilities/tools.py:228: UserWarning: Can't load module 'mutwo.converters.frontends.abjad_constants'. Install dependency 'abjad' if you want to use 'mutwo.converters.frontends.abjad_constants'.\n",
            "  warnings.warn(message)\n",
            "/usr/local/lib/python3.7/dist-packages/mutwo/utilities/tools.py:228: UserWarning: Can't load module 'mutwo.converters.frontends.abjad'. Install dependency 'abjad' if you want to use 'mutwo.converters.frontends.abjad'.\n",
            "  warnings.warn(message)\n"
          ]
        }
      ]
    }
  ]
}